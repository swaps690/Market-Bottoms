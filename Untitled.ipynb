{
 "cells": [
  {
   "cell_type": "code",
   "execution_count": 1,
   "metadata": {},
   "outputs": [],
   "source": [
    "import numpy as np\n",
    "import pandas as pd"
   ]
  },
  {
   "cell_type": "code",
   "execution_count": 4,
   "metadata": {},
   "outputs": [],
   "source": [
    "df = pd.read_excel('Book1.xlsx',sheet_name='nifty',index_col='Date',parse_dates=True)"
   ]
  },
  {
   "cell_type": "code",
   "execution_count": 43,
   "metadata": {
    "collapsed": true
   },
   "outputs": [
    {
     "data": {
      "text/html": [
       "<div>\n",
       "<style scoped>\n",
       "    .dataframe tbody tr th:only-of-type {\n",
       "        vertical-align: middle;\n",
       "    }\n",
       "\n",
       "    .dataframe tbody tr th {\n",
       "        vertical-align: top;\n",
       "    }\n",
       "\n",
       "    .dataframe thead th {\n",
       "        text-align: right;\n",
       "    }\n",
       "</style>\n",
       "<table border=\"1\" class=\"dataframe\">\n",
       "  <thead>\n",
       "    <tr style=\"text-align: right;\">\n",
       "      <th></th>\n",
       "      <th>Last Price</th>\n",
       "      <th>Volume</th>\n",
       "      <th>Monthly_returns</th>\n",
       "    </tr>\n",
       "    <tr>\n",
       "      <th>Date</th>\n",
       "      <th></th>\n",
       "      <th></th>\n",
       "      <th></th>\n",
       "    </tr>\n",
       "  </thead>\n",
       "  <tbody>\n",
       "    <tr>\n",
       "      <td>2000-01-01</td>\n",
       "      <td>1480.45</td>\n",
       "      <td>2.574000e+08</td>\n",
       "      <td>7.457415</td>\n",
       "    </tr>\n",
       "    <tr>\n",
       "      <td>2000-02-01</td>\n",
       "      <td>1599.75</td>\n",
       "      <td>2.143700e+08</td>\n",
       "      <td>3.396739</td>\n",
       "    </tr>\n",
       "    <tr>\n",
       "      <td>2000-03-01</td>\n",
       "      <td>1656.00</td>\n",
       "      <td>2.005000e+08</td>\n",
       "      <td>-8.345055</td>\n",
       "    </tr>\n",
       "    <tr>\n",
       "      <td>2000-04-01</td>\n",
       "      <td>1528.45</td>\n",
       "      <td>1.869800e+08</td>\n",
       "      <td>-7.455709</td>\n",
       "    </tr>\n",
       "    <tr>\n",
       "      <td>2000-05-01</td>\n",
       "      <td>1422.40</td>\n",
       "      <td>1.594600e+08</td>\n",
       "      <td>-2.386180</td>\n",
       "    </tr>\n",
       "    <tr>\n",
       "      <td>...</td>\n",
       "      <td>...</td>\n",
       "      <td>...</td>\n",
       "      <td>...</td>\n",
       "    </tr>\n",
       "    <tr>\n",
       "      <td>2019-10-01</td>\n",
       "      <td>11174.75</td>\n",
       "      <td>4.010000e+09</td>\n",
       "      <td>6.020302</td>\n",
       "    </tr>\n",
       "    <tr>\n",
       "      <td>2019-11-01</td>\n",
       "      <td>11890.60</td>\n",
       "      <td>3.950000e+09</td>\n",
       "      <td>1.372340</td>\n",
       "    </tr>\n",
       "    <tr>\n",
       "      <td>2019-12-01</td>\n",
       "      <td>12056.05</td>\n",
       "      <td>3.740000e+09</td>\n",
       "      <td>1.395313</td>\n",
       "    </tr>\n",
       "    <tr>\n",
       "      <td>2020-01-01</td>\n",
       "      <td>12226.65</td>\n",
       "      <td>1.980000e+09</td>\n",
       "      <td>-4.843142</td>\n",
       "    </tr>\n",
       "    <tr>\n",
       "      <td>2020-02-01</td>\n",
       "      <td>11661.85</td>\n",
       "      <td>3.280000e+09</td>\n",
       "      <td>-4.107394</td>\n",
       "    </tr>\n",
       "  </tbody>\n",
       "</table>\n",
       "<p>242 rows × 3 columns</p>\n",
       "</div>"
      ],
      "text/plain": [
       "            Last Price        Volume  Monthly_returns\n",
       "Date                                                 \n",
       "2000-01-01     1480.45  2.574000e+08         7.457415\n",
       "2000-02-01     1599.75  2.143700e+08         3.396739\n",
       "2000-03-01     1656.00  2.005000e+08        -8.345055\n",
       "2000-04-01     1528.45  1.869800e+08        -7.455709\n",
       "2000-05-01     1422.40  1.594600e+08        -2.386180\n",
       "...                ...           ...              ...\n",
       "2019-10-01    11174.75  4.010000e+09         6.020302\n",
       "2019-11-01    11890.60  3.950000e+09         1.372340\n",
       "2019-12-01    12056.05  3.740000e+09         1.395313\n",
       "2020-01-01    12226.65  1.980000e+09        -4.843142\n",
       "2020-02-01    11661.85  3.280000e+09        -4.107394\n",
       "\n",
       "[242 rows x 3 columns]"
      ]
     },
     "execution_count": 43,
     "metadata": {},
     "output_type": "execute_result"
    }
   ],
   "source": [
    "df.resample('MS').first()"
   ]
  },
  {
   "cell_type": "code",
   "execution_count": 18,
   "metadata": {},
   "outputs": [],
   "source": [
    "df['Monthly_returns']=(df['Last Price']-df['Last Price'].shift(1))/df['Last Price']*100"
   ]
  },
  {
   "cell_type": "code",
   "execution_count": 95,
   "metadata": {},
   "outputs": [
    {
     "data": {
      "image/png": "[encoded data removed]",
      "text/plain": [
       "<Figure size 864x576 with 1 Axes>"
      ]
     },
     "metadata": {
      "needs_background": "light"
     },
     "output_type": "display_data"
    }
   ],
   "source": [
    "df['Last Price'].plot(figsize=(12,8),xlim=('2000','2004'),ylim=(0,3000));"
   ]
  },
  {
   "cell_type": "code",
   "execution_count": 55,
   "metadata": {},
   "outputs": [
    {
     "data": {
      "text/plain": [
       "Timestamp('2000-02-01 00:00:00', freq='MS')"
      ]
     },
     "execution_count": 55,
     "metadata": {},
     "output_type": "execute_result"
    }
   ],
   "source": [
    "df['Monthly_returns'].index[1]"
   ]
  },
  {
   "cell_type": "code",
   "execution_count": 68,
   "metadata": {},
   "outputs": [],
   "source": [
    "threshold = -10"
   ]
  },
  {
   "cell_type": "code",
   "execution_count": 96,
   "metadata": {},
   "outputs": [],
   "source": [
    "def Bottom_Top(x):\n",
    "    i = 0\n",
    "    while(i<len(x)):\n",
    "        while(x[i]>0):\n",
    "            i = i+1\n",
    "            if i==241:\n",
    "                break\n",
    "        if i==241:\n",
    "            break\n",
    "        \n",
    "        sum = 0\n",
    "        j = i\n",
    "        while(sum>threshold and sum<=0):\n",
    "            sum = sum + x[j]\n",
    "            j=j+1\n",
    "        if (sum <= threshold):\n",
    "            print('{}.marks the start of bear run'.format(x.index[i]))\n",
    "            \n",
    "        if(sum>0):\n",
    "            print('Did not enter bear run')\n",
    "        i=j\n",
    "        \n",
    "        while(x[i]<0):\n",
    "            i = i+1\n",
    "            if i==241:\n",
    "                break\n",
    "        if i==241:\n",
    "            break\n",
    "        sum = 0\n",
    "        k = i\n",
    "        while(sum<thres and sum>=0):\n",
    "            sum = sum + x[k]\n",
    "            k=k+1\n",
    "        if (sum >= thres):\n",
    "            print('{}.marks the end of Bear run'.format(x.index[i]))\n",
    "        if(sum<0):\n",
    "            print('Did not enter bull run')\n",
    "        i=k\n",
    "        \n",
    "        \n",
    "    \n",
    "    \n",
    "        \n",
    "        "
   ]
  },
  {
   "cell_type": "code",
   "execution_count": 97,
   "metadata": {},
   "outputs": [],
   "source": [
    "thres = 10"
   ]
  },
  {
   "cell_type": "code",
   "execution_count": 98,
   "metadata": {},
   "outputs": [
    {
     "data": {
      "text/html": [
       "<div>\n",
       "<style scoped>\n",
       "    .dataframe tbody tr th:only-of-type {\n",
       "        vertical-align: middle;\n",
       "    }\n",
       "\n",
       "    .dataframe tbody tr th {\n",
       "        vertical-align: top;\n",
       "    }\n",
       "\n",
       "    .dataframe thead th {\n",
       "        text-align: right;\n",
       "    }\n",
       "</style>\n",
       "<table border=\"1\" class=\"dataframe\">\n",
       "  <thead>\n",
       "    <tr style=\"text-align: right;\">\n",
       "      <th></th>\n",
       "      <th>Last Price</th>\n",
       "      <th>Volume</th>\n",
       "      <th>Monthly_returns</th>\n",
       "    </tr>\n",
       "    <tr>\n",
       "      <th>Date</th>\n",
       "      <th></th>\n",
       "      <th></th>\n",
       "      <th></th>\n",
       "    </tr>\n",
       "  </thead>\n",
       "  <tbody>\n",
       "    <tr>\n",
       "      <td>2008-01-01</td>\n",
       "      <td>6274.30</td>\n",
       "      <td>5.806700e+08</td>\n",
       "      <td>-17.998966</td>\n",
       "    </tr>\n",
       "    <tr>\n",
       "      <td>2008-02-01</td>\n",
       "      <td>5317.25</td>\n",
       "      <td>5.883500e+08</td>\n",
       "      <td>-1.794774</td>\n",
       "    </tr>\n",
       "    <tr>\n",
       "      <td>2008-03-01</td>\n",
       "      <td>5223.50</td>\n",
       "      <td>5.270900e+08</td>\n",
       "      <td>-12.405853</td>\n",
       "    </tr>\n",
       "    <tr>\n",
       "      <td>2008-04-01</td>\n",
       "      <td>4647.00</td>\n",
       "      <td>6.378400e+08</td>\n",
       "      <td>11.116637</td>\n",
       "    </tr>\n",
       "    <tr>\n",
       "      <td>2008-05-01</td>\n",
       "      <td>5228.20</td>\n",
       "      <td>6.031300e+08</td>\n",
       "      <td>-7.353032</td>\n",
       "    </tr>\n",
       "    <tr>\n",
       "      <td>2008-06-01</td>\n",
       "      <td>4870.10</td>\n",
       "      <td>7.190000e+08</td>\n",
       "      <td>-21.267430</td>\n",
       "    </tr>\n",
       "    <tr>\n",
       "      <td>2008-07-01</td>\n",
       "      <td>4016.00</td>\n",
       "      <td>8.152600e+08</td>\n",
       "      <td>9.007488</td>\n",
       "    </tr>\n",
       "    <tr>\n",
       "      <td>2008-08-01</td>\n",
       "      <td>4413.55</td>\n",
       "      <td>7.666100e+08</td>\n",
       "      <td>-1.407302</td>\n",
       "    </tr>\n",
       "    <tr>\n",
       "      <td>2008-09-01</td>\n",
       "      <td>4352.30</td>\n",
       "      <td>4.354200e+08</td>\n",
       "      <td>-13.985281</td>\n",
       "    </tr>\n",
       "    <tr>\n",
       "      <td>2008-10-01</td>\n",
       "      <td>3818.30</td>\n",
       "      <td>7.266800e+08</td>\n",
       "      <td>-32.322567</td>\n",
       "    </tr>\n",
       "    <tr>\n",
       "      <td>2008-11-01</td>\n",
       "      <td>2885.60</td>\n",
       "      <td>1.070000e+09</td>\n",
       "      <td>-6.307103</td>\n",
       "    </tr>\n",
       "    <tr>\n",
       "      <td>2008-12-01</td>\n",
       "      <td>2714.40</td>\n",
       "      <td>1.440000e+09</td>\n",
       "      <td>10.908345</td>\n",
       "    </tr>\n",
       "  </tbody>\n",
       "</table>\n",
       "</div>"
      ],
      "text/plain": [
       "            Last Price        Volume  Monthly_returns\n",
       "Date                                                 \n",
       "2008-01-01     6274.30  5.806700e+08       -17.998966\n",
       "2008-02-01     5317.25  5.883500e+08        -1.794774\n",
       "2008-03-01     5223.50  5.270900e+08       -12.405853\n",
       "2008-04-01     4647.00  6.378400e+08        11.116637\n",
       "2008-05-01     5228.20  6.031300e+08        -7.353032\n",
       "2008-06-01     4870.10  7.190000e+08       -21.267430\n",
       "2008-07-01     4016.00  8.152600e+08         9.007488\n",
       "2008-08-01     4413.55  7.666100e+08        -1.407302\n",
       "2008-09-01     4352.30  4.354200e+08       -13.985281\n",
       "2008-10-01     3818.30  7.266800e+08       -32.322567\n",
       "2008-11-01     2885.60  1.070000e+09        -6.307103\n",
       "2008-12-01     2714.40  1.440000e+09        10.908345"
      ]
     },
     "execution_count": 98,
     "metadata": {},
     "output_type": "execute_result"
    }
   ],
   "source": [
    "df.loc['2008']"
   ]
  },
  {
   "cell_type": "code",
   "execution_count": 99,
   "metadata": {},
   "outputs": [
    {
     "name": "stdout",
     "output_type": "stream",
     "text": [
      "2000-03-01 00:00:00.marks the start of bear run\n",
      "Did not enter bull run\n",
      "2000-09-01 00:00:00.marks the start of bear run\n",
      "2000-11-01 00:00:00.marks the end of Bear run\n",
      "2001-02-01 00:00:00.marks the start of bear run\n",
      "Did not enter bull run\n",
      "2001-07-01 00:00:00.marks the start of bear run\n",
      "2001-10-01 00:00:00.marks the end of Bear run\n",
      "Did not enter bear run\n",
      "Did not enter bull run\n",
      "Did not enter bear run\n",
      "Did not enter bull run\n",
      "2003-03-01 00:00:00.marks the start of bear run\n",
      "2003-05-01 00:00:00.marks the end of Bear run\n",
      "2004-01-01 00:00:00.marks the start of bear run\n",
      "2004-06-01 00:00:00.marks the end of Bear run\n",
      "Did not enter bear run\n",
      "2005-05-01 00:00:00.marks the end of Bear run\n",
      "Did not enter bear run\n",
      "2005-12-01 00:00:00.marks the end of Bear run\n",
      "2006-05-01 00:00:00.marks the start of bear run\n",
      "2006-06-01 00:00:00.marks the end of Bear run\n",
      "Did not enter bear run\n",
      "2007-03-01 00:00:00.marks the end of Bear run\n",
      "Did not enter bear run\n",
      "2008-04-01 00:00:00.marks the end of Bear run\n",
      "2008-05-01 00:00:00.marks the start of bear run\n",
      "Did not enter bull run\n",
      "2008-10-01 00:00:00.marks the start of bear run\n",
      "2008-12-01 00:00:00.marks the end of Bear run\n",
      "2009-01-01 00:00:00.marks the start of bear run\n",
      "2009-03-01 00:00:00.marks the end of Bear run\n",
      "Did not enter bear run\n",
      "2009-08-01 00:00:00.marks the end of Bear run\n",
      "Did not enter bear run\n",
      "2010-06-01 00:00:00.marks the end of Bear run\n",
      "2010-11-01 00:00:00.marks the start of bear run\n",
      "Did not enter bull run\n",
      "Did not enter bear run\n",
      "2012-01-01 00:00:00.marks the end of Bear run\n",
      "2012-03-01 00:00:00.marks the start of bear run\n",
      "2012-06-01 00:00:00.marks the end of Bear run\n",
      "Did not enter bear run\n",
      "Did not enter bull run\n",
      "Did not enter bear run\n",
      "Did not enter bull run\n",
      "Did not enter bear run\n",
      "2013-10-01 00:00:00.marks the end of Bear run\n",
      "Did not enter bear run\n",
      "2014-10-01 00:00:00.marks the end of Bear run\n",
      "2015-03-01 00:00:00.marks the start of bear run\n",
      "Did not enter bull run\n",
      "Did not enter bear run\n",
      "2016-04-01 00:00:00.marks the end of Bear run\n",
      "Did not enter bear run\n",
      "2017-03-01 00:00:00.marks the end of Bear run\n",
      "Did not enter bear run\n",
      "Did not enter bull run\n",
      "2018-09-01 00:00:00.marks the start of bear run\n",
      "2018-10-01 00:00:00.marks the end of Bear run\n",
      "Did not enter bear run\n",
      "Did not enter bull run\n"
     ]
    }
   ],
   "source": [
    "Bottom_Top(df['Monthly_returns'])"
   ]
  },
  {
   "cell_type": "code",
   "execution_count": 82,
   "metadata": {},
   "outputs": [
    {
     "data": {
      "text/plain": [
       "242"
      ]
     },
     "execution_count": 82,
     "metadata": {},
     "output_type": "execute_result"
    }
   ],
   "source": [
    "len(df)"
   ]
  },
  {
   "cell_type": "code",
   "execution_count": null,
   "metadata": {},
   "outputs": [],
   "source": []
  }
 ],
 "metadata": {
  "kernelspec": {
   "display_name": "Python 3",
   "language": "python",
   "name": "python3"
  },
  "language_info": {
   "codemirror_mode": {
    "name": "ipython",
    "version": 3
   },
   "file_extension": ".py",
   "mimetype": "text/x-python",
   "name": "python",
   "nbconvert_exporter": "python",
   "pygments_lexer": "ipython3",
   "version": "3.7.4"
  }
 },
 "nbformat": 4,
 "nbformat_minor": 2
}
